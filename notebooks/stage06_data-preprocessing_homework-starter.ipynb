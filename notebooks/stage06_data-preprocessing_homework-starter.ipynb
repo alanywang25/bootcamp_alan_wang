{
 "cells": [
  {
   "cell_type": "markdown",
   "metadata": {},
   "source": [
    "# Homework Starter — Stage 6: Data Preprocessing\n",
    "Use this notebook to apply your cleaning functions and save processed data."
   ]
  },
  {
   "cell_type": "code",
   "execution_count": 1,
   "metadata": {},
   "outputs": [
    {
     "name": "stdout",
     "output_type": "stream",
     "text": [
      "Current directory: /Users/alanwang/Downloads/bootcamp_alan_wang/notebooks\n",
      "Bootcamp root: /Users/alanwang/Downloads/bootcamp_alan_wang\n"
     ]
    }
   ],
   "source": [
    "import pandas as pd\n",
    "import pandas as pd\n",
    "import sys\n",
    "import os\n",
    "\n",
    "# Get the correct paths\n",
    "current_dir = os.getcwd()\n",
    "print(f\"Current directory: {current_dir}\")\n",
    "\n",
    "bootcamp_root = os.path.dirname(current_dir) \n",
    "print(f\"Bootcamp root: {bootcamp_root}\")\n",
    "\n",
    "# Add bootcamp root to Python path to import src.cleaning\n",
    "if bootcamp_root not in sys.path:\n",
    "    sys.path.append(bootcamp_root)\n",
    "\n",
    "# Add src directory specifically\n",
    "src_path = os.path.join(bootcamp_root, 'src')\n",
    "if src_path not in sys.path:\n",
    "    sys.path.append(src_path)\n",
    "\n",
    "from src import cleaning"
   ]
  },
  {
   "cell_type": "markdown",
   "metadata": {},
   "source": [
    "## Load Raw Dataset"
   ]
  },
  {
   "cell_type": "code",
   "execution_count": 2,
   "metadata": {},
   "outputs": [
    {
     "name": "stdout",
     "output_type": "stream",
     "text": [
      "Original dataset shape: (20, 3)\n",
      "\n",
      "Missing values per column:\n",
      "date      0\n",
      "ticker    0\n",
      "price     0\n",
      "dtype: int64\n",
      "\n",
      "Data types:\n",
      "date       object\n",
      "ticker     object\n",
      "price     float64\n",
      "dtype: object\n"
     ]
    }
   ],
   "source": [
    "df = pd.read_csv('../data/raw/sample_20250816-200326.csv')\n",
    "df.head()\n",
    "\n",
    "print(\"Original dataset shape:\", df.shape)\n",
    "print(\"\\nMissing values per column:\")\n",
    "print(df.isnull().sum())\n",
    "print(\"\\nData types:\")\n",
    "print(df.dtypes)\n",
    "\n",
    "# Store original for comparison\n",
    "original_df = df.copy()"
   ]
  },
  {
   "cell_type": "markdown",
   "metadata": {},
   "source": [
    "## Apply Cleaning Functions"
   ]
  },
  {
   "cell_type": "code",
   "execution_count": 3,
   "metadata": {},
   "outputs": [
    {
     "name": "stdout",
     "output_type": "stream",
     "text": [
      "Dropped columns with >50.0% missing values: []\n",
      "\n",
      "Numeric columns for median imputation: ['price']\n",
      "\n",
      "Columns to normalize: ['price']\n",
      "Normalized column 'price':\n",
      "  Original - Mean: 149.24, Std: 1.62\n",
      "  Normalized - Mean: 0.00, Std: 1.03\n",
      "\n",
      "Final missing values after cleaning:\n",
      "date      0\n",
      "ticker    0\n",
      "price     0\n",
      "dtype: int64\n",
      "\n",
      "=== COMPARISON: ORIGINAL vs CLEANED DATA ===\n",
      "Original shape: (20, 3)\n",
      "Cleaned shape: (20, 3)\n",
      "\n",
      "Original numeric columns statistics:\n",
      "        price\n",
      "count   20.00\n",
      "mean   149.24\n",
      "std      1.62\n",
      "min    146.82\n",
      "25%    148.13\n",
      "50%    149.05\n",
      "75%    149.96\n",
      "max    152.39\n",
      "\n",
      "Cleaned numeric columns statistics:\n",
      "       price\n",
      "count  20.00\n",
      "mean    0.00\n",
      "std     1.03\n",
      "min    -1.54\n",
      "25%    -0.70\n",
      "50%    -0.12\n",
      "75%     0.46\n",
      "max     1.99\n"
     ]
    },
    {
     "data": {
      "image/png": "[encoded data removed]",
      "text/plain": [
       "<Figure size 1200x500 with 2 Axes>"
      ]
     },
     "metadata": {},
     "output_type": "display_data"
    }
   ],
   "source": [
    "# TODO: Apply your functions here\n",
    "# Example:\n",
    "# df = cleaning.fill_missing_median(df, ['col1','col2'])\n",
    "# df = cleaning.drop_missing(df, threshold=0.5)\n",
    "# df = cleaning.normalize_data(df, ['col1','col2'])\n",
    "\n",
    "import numpy as np\n",
    "import matplotlib.pyplot as plt\n",
    "import seaborn as sns\n",
    "\n",
    "# Step 1: Drop columns with more than 50% missing values\n",
    "df = cleaning.drop_missing(df, threshold=0.5)\n",
    "\n",
    "# Step 2: Identify numeric columns for median imputation\n",
    "numeric_cols = df.select_dtypes(include=[np.number]).columns.tolist()\n",
    "print(f\"\\nNumeric columns for median imputation: {numeric_cols}\")\n",
    "\n",
    "# Fill missing values in numeric columns with median\n",
    "df = cleaning.fill_missing_median(df, numeric_cols)\n",
    "\n",
    "# Step 3: Normalize numeric columns (excluding any binary/categorical numeric)\n",
    "# For this example, we'll normalize all numeric columns, but you might want to exclude some\n",
    "normalize_cols = [col for col in numeric_cols if df[col].nunique() > 2]  # Exclude binary columns\n",
    "print(f\"\\nColumns to normalize: {normalize_cols}\")\n",
    "\n",
    "df = cleaning.normalize_data(df, normalize_cols)\n",
    "\n",
    "# Step 4: Handle categorical columns (simple mode imputation for this example)\n",
    "categorical_cols = df.select_dtypes(include=['object']).columns.tolist()\n",
    "for col in categorical_cols:\n",
    "    if col in df.columns and df[col].isnull().sum() > 0:\n",
    "        mode_val = df[col].mode()[0]\n",
    "        df[col] = df[col].fillna(mode_val)\n",
    "        print(f\"Filled categorical column '{col}' with mode: {mode_val}\")\n",
    "\n",
    "print(f\"\\nFinal missing values after cleaning:\")\n",
    "print(df.isnull().sum())\n",
    "\n",
    "## Compare original vs cleaned data\n",
    "print(\"\\n=== COMPARISON: ORIGINAL vs CLEANED DATA ===\")\n",
    "print(f\"Original shape: {original_df.shape}\")\n",
    "print(f\"Cleaned shape: {df.shape}\")\n",
    "\n",
    "# Compare basic statistics\n",
    "print(\"\\nOriginal numeric columns statistics:\")\n",
    "print(original_df.select_dtypes(include=[np.number]).describe().round(2))\n",
    "\n",
    "print(\"\\nCleaned numeric columns statistics:\")\n",
    "print(df.select_dtypes(include=[np.number]).describe().round(2))\n",
    "\n",
    "# Visual comparison for a sample numeric column (if available)\n",
    "if len(numeric_cols) > 0:\n",
    "    sample_col = numeric_cols[0]\n",
    "    fig, (ax1, ax2) = plt.subplots(1, 2, figsize=(12, 5))\n",
    "    \n",
    "    # Original data\n",
    "    ax1.hist(original_df[sample_col].dropna(), bins=30, alpha=0.7, color='blue')\n",
    "    ax1.set_title(f'Original {sample_col}')\n",
    "    ax1.set_xlabel('Value')\n",
    "    ax1.set_ylabel('Frequency')\n",
    "    \n",
    "    # Cleaned data\n",
    "    ax2.hist(df[sample_col], bins=30, alpha=0.7, color='green')\n",
    "    ax2.set_title(f'Cleaned {sample_col}')\n",
    "    ax2.set_xlabel('Value')\n",
    "    ax2.set_ylabel('Frequency')\n",
    "    \n",
    "    plt.tight_layout()\n",
    "    plt.show()"
   ]
  },
  {
   "cell_type": "code",
   "execution_count": 4,
   "metadata": {},
   "outputs": [
    {
     "name": "stdout",
     "output_type": "stream",
     "text": [
      "\n",
      "=== ASSUMPTIONS ===\n",
      "1. Columns with >50% missing values are dropped as they may not provide meaningful information\n",
      "2. Missing values in numeric columns are filled with median (robust to outliers)\n",
      "3. Numeric columns are normalized using z-score standardization (mean=0, std=1)\n",
      "4. Binary numeric columns are excluded from normalization\n",
      "5. Categorical missing values are filled with mode (most frequent value)\n",
      "6. All transformations are applied in a specific order: drop columns → fill numeric → normalize → fill categorical\n"
     ]
    }
   ],
   "source": [
    "## Document Assumptions\n",
    "print(\"\\n=== ASSUMPTIONS ===\")\n",
    "print(\"1. Columns with >50% missing values are dropped as they may not provide meaningful information\")\n",
    "print(\"2. Missing values in numeric columns are filled with median (robust to outliers)\")\n",
    "print(\"3. Numeric columns are normalized using z-score standardization (mean=0, std=1)\")\n",
    "print(\"4. Binary numeric columns are excluded from normalization\")\n",
    "print(\"5. Categorical missing values are filled with mode (most frequent value)\")\n",
    "print(\"6. All transformations are applied in a specific order: drop columns → fill numeric → normalize → fill categorical\")"
   ]
  },
  {
   "cell_type": "markdown",
   "metadata": {},
   "source": [
    "## Save Cleaned Dataset"
   ]
  },
  {
   "cell_type": "code",
   "execution_count": 5,
   "metadata": {},
   "outputs": [
    {
     "name": "stdout",
     "output_type": "stream",
     "text": [
      "\n",
      "Cleaned dataset saved to ../data/processed/sample_data_cleaned.csv\n"
     ]
    }
   ],
   "source": [
    "df.to_csv('../data/processed/sample_data_cleaned.csv', index=False)\n",
    "print(f\"\\nCleaned dataset saved to ../data/processed/sample_data_cleaned.csv\")"
   ]
  }
 ],
 "metadata": {
  "kernelspec": {
   "display_name": "bootcamp_env",
   "language": "python",
   "name": "python3"
  },
  "language_info": {
   "codemirror_mode": {
    "name": "ipython",
    "version": 3
   },
   "file_extension": ".py",
   "mimetype": "text/x-python",
   "name": "python",
   "nbconvert_exporter": "python",
   "pygments_lexer": "ipython3",
   "version": "3.10.18"
  }
 },
 "nbformat": 4,
 "nbformat_minor": 2
}
