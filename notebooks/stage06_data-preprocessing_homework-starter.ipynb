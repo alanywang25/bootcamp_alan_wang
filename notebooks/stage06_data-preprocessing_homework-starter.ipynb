{
 "cells": [
  {
   "cell_type": "markdown",
   "metadata": {},
   "source": [
    "# Homework Starter — Stage 6: Data Preprocessing\n",
    "Use this notebook to apply your cleaning functions and save processed data."
   ]
  },
  {
   "cell_type": "code",
   "execution_count": null,
   "metadata": {},
   "outputs": [
    {
     "name": "stdout",
     "output_type": "stream",
     "text": [
      "Notebook directory: /Users/alanwang/Downloads/bootcamp_alan_wang/notebooks\n",
      "Project root: /Users/alanwang/Downloads/bootcamp_alan_wang\n"
     ]
    }
   ],
   "source": [
    "import pandas as pd\n",
    "from pathlib import Path\n",
    "import sys\n",
    "\n",
    "# Get paths\n",
    "current_dir = Path.cwd()  # bootcamp/notebooks/\n",
    "bootcamp_root = current_dir.parent  # bootcamp/\n",
    "\n",
    "# Add to Python path\n",
    "sys.path.append(str(bootcamp_root))\n",
    "sys.path.append(str(bootcamp_root / 'src'))\n",
    "\n",
    "# Now import\n",
    "from src import cleaning"
   ]
  },
  {
   "cell_type": "markdown",
   "metadata": {},
   "source": [
    "## Load Raw Dataset"
   ]
  },
  {
   "cell_type": "code",
   "execution_count": 12,
   "metadata": {},
   "outputs": [
    {
     "name": "stdout",
     "output_type": "stream",
     "text": [
      "Original dataset shape: (20, 3)\n",
      "\n",
      "Missing values per column:\n",
      "date      0\n",
      "ticker    0\n",
      "price     0\n",
      "dtype: int64\n",
      "\n",
      "Data types:\n",
      "date       object\n",
      "ticker     object\n",
      "price     float64\n",
      "dtype: object\n"
     ]
    }
   ],
   "source": [
    "df = pd.read_csv('../data/raw/sample_20250816-200326.csv')\n",
    "df.head()\n",
    "\n",
    "print(\"Original dataset shape:\", df.shape)\n",
    "print(\"\\nMissing values per column:\")\n",
    "print(df.isnull().sum())\n",
    "print(\"\\nData types:\")\n",
    "print(df.dtypes)\n",
    "\n",
    "# Store original for comparison\n",
    "original_df = df.copy()"
   ]
  },
  {
   "cell_type": "markdown",
   "metadata": {},
   "source": [
    "## Apply Cleaning Functions"
   ]
  },
  {
   "cell_type": "code",
   "execution_count": 13,
   "metadata": {},
   "outputs": [
    {
     "ename": "AttributeError",
     "evalue": "module 'src.cleaning' has no attribute 'drop_missing'",
     "output_type": "error",
     "traceback": [
      "\u001b[0;31m---------------------------------------------------------------------------\u001b[0m",
      "\u001b[0;31mAttributeError\u001b[0m                            Traceback (most recent call last)",
      "Cell \u001b[0;32mIn[13], line 12\u001b[0m\n\u001b[1;32m      9\u001b[0m \u001b[38;5;28;01mimport\u001b[39;00m\u001b[38;5;250m \u001b[39m\u001b[38;5;21;01mseaborn\u001b[39;00m\u001b[38;5;250m \u001b[39m\u001b[38;5;28;01mas\u001b[39;00m\u001b[38;5;250m \u001b[39m\u001b[38;5;21;01msns\u001b[39;00m\n\u001b[1;32m     11\u001b[0m \u001b[38;5;66;03m# Step 1: Drop columns with more than 50% missing values\u001b[39;00m\n\u001b[0;32m---> 12\u001b[0m df \u001b[38;5;241m=\u001b[39m \u001b[43mcleaning\u001b[49m\u001b[38;5;241;43m.\u001b[39;49m\u001b[43mdrop_missing\u001b[49m(df, threshold\u001b[38;5;241m=\u001b[39m\u001b[38;5;241m0.5\u001b[39m)\n\u001b[1;32m     14\u001b[0m \u001b[38;5;66;03m# Step 2: Identify numeric columns for median imputation\u001b[39;00m\n\u001b[1;32m     15\u001b[0m numeric_cols \u001b[38;5;241m=\u001b[39m df\u001b[38;5;241m.\u001b[39mselect_dtypes(include\u001b[38;5;241m=\u001b[39m[np\u001b[38;5;241m.\u001b[39mnumber])\u001b[38;5;241m.\u001b[39mcolumns\u001b[38;5;241m.\u001b[39mtolist()\n",
      "\u001b[0;31mAttributeError\u001b[0m: module 'src.cleaning' has no attribute 'drop_missing'"
     ]
    }
   ],
   "source": [
    "# TODO: Apply your functions here\n",
    "# Example:\n",
    "# df = cleaning.fill_missing_median(df, ['col1','col2'])\n",
    "# df = cleaning.drop_missing(df, threshold=0.5)\n",
    "# df = cleaning.normalize_data(df, ['col1','col2'])\n",
    "\n",
    "import numpy as np\n",
    "import matplotlib.pyplot as plt\n",
    "import seaborn as sns\n",
    "\n",
    "# Step 1: Drop columns with more than 50% missing values\n",
    "df = cleaning.drop_missing(df, threshold=0.5)\n",
    "\n",
    "# Step 2: Identify numeric columns for median imputation\n",
    "numeric_cols = df.select_dtypes(include=[np.number]).columns.tolist()\n",
    "print(f\"\\nNumeric columns for median imputation: {numeric_cols}\")\n",
    "\n",
    "# Fill missing values in numeric columns with median\n",
    "df = cleaning.fill_missing_median(df, numeric_cols)\n",
    "\n",
    "# Step 3: Normalize numeric columns (excluding any binary/categorical numeric)\n",
    "# For this example, we'll normalize all numeric columns, but you might want to exclude some\n",
    "normalize_cols = [col for col in numeric_cols if df[col].nunique() > 2]  # Exclude binary columns\n",
    "print(f\"\\nColumns to normalize: {normalize_cols}\")\n",
    "\n",
    "df = cleaning.normalize_data(df, normalize_cols)\n",
    "\n",
    "# Step 4: Handle categorical columns (simple mode imputation for this example)\n",
    "categorical_cols = df.select_dtypes(include=['object']).columns.tolist()\n",
    "for col in categorical_cols:\n",
    "    if col in df.columns and df[col].isnull().sum() > 0:\n",
    "        mode_val = df[col].mode()[0]\n",
    "        df[col] = df[col].fillna(mode_val)\n",
    "        print(f\"Filled categorical column '{col}' with mode: {mode_val}\")\n",
    "\n",
    "print(f\"\\nFinal missing values after cleaning:\")\n",
    "print(df.isnull().sum())\n",
    "\n",
    "## Compare original vs cleaned data\n",
    "print(\"\\n=== COMPARISON: ORIGINAL vs CLEANED DATA ===\")\n",
    "print(f\"Original shape: {original_df.shape}\")\n",
    "print(f\"Cleaned shape: {df.shape}\")\n",
    "\n",
    "# Compare basic statistics\n",
    "print(\"\\nOriginal numeric columns statistics:\")\n",
    "print(original_df.select_dtypes(include=[np.number]).describe().round(2))\n",
    "\n",
    "print(\"\\nCleaned numeric columns statistics:\")\n",
    "print(df.select_dtypes(include=[np.number]).describe().round(2))\n",
    "\n",
    "# Visual comparison for a sample numeric column (if available)\n",
    "if len(numeric_cols) > 0:\n",
    "    sample_col = numeric_cols[0]\n",
    "    fig, (ax1, ax2) = plt.subplots(1, 2, figsize=(12, 5))\n",
    "    \n",
    "    # Original data\n",
    "    ax1.hist(original_df[sample_col].dropna(), bins=30, alpha=0.7, color='blue')\n",
    "    ax1.set_title(f'Original {sample_col}')\n",
    "    ax1.set_xlabel('Value')\n",
    "    ax1.set_ylabel('Frequency')\n",
    "    \n",
    "    # Cleaned data\n",
    "    ax2.hist(df[sample_col], bins=30, alpha=0.7, color='green')\n",
    "    ax2.set_title(f'Cleaned {sample_col}')\n",
    "    ax2.set_xlabel('Value')\n",
    "    ax2.set_ylabel('Frequency')\n",
    "    \n",
    "    plt.tight_layout()\n",
    "    plt.show()"
   ]
  },
  {
   "cell_type": "code",
   "execution_count": null,
   "metadata": {},
   "outputs": [],
   "source": [
    "## Document Assumptions\n",
    "print(\"\\n=== ASSUMPTIONS ===\")\n",
    "print(\"1. Columns with >50% missing values are dropped as they may not provide meaningful information\")\n",
    "print(\"2. Missing values in numeric columns are filled with median (robust to outliers)\")\n",
    "print(\"3. Numeric columns are normalized using z-score standardization (mean=0, std=1)\")\n",
    "print(\"4. Binary numeric columns are excluded from normalization\")\n",
    "print(\"5. Categorical missing values are filled with mode (most frequent value)\")\n",
    "print(\"6. All transformations are applied in a specific order: drop columns → fill numeric → normalize → fill categorical\")"
   ]
  },
  {
   "cell_type": "markdown",
   "metadata": {},
   "source": [
    "## Save Cleaned Dataset"
   ]
  },
  {
   "cell_type": "code",
   "execution_count": null,
   "metadata": {},
   "outputs": [],
   "source": [
    "df.to_csv('../data/processed/sample_data_cleaned.csv', index=False)\n",
    "print(f\"\\nCleaned dataset saved to ../data/processed/sample_data_cleaned.csv\")"
   ]
  }
 ],
 "metadata": {
  "kernelspec": {
   "display_name": "bootcamp_env",
   "language": "python",
   "name": "python3"
  },
  "language_info": {
   "codemirror_mode": {
    "name": "ipython",
    "version": 3
   },
   "file_extension": ".py",
   "mimetype": "text/x-python",
   "name": "python",
   "nbconvert_exporter": "python",
   "pygments_lexer": "ipython3",
   "version": "3.10.18"
  }
 },
 "nbformat": 4,
 "nbformat_minor": 2
}
