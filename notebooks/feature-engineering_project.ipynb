{
 "cells": [
  {
   "cell_type": "markdown",
   "metadata": {},
   "source": [
    "# Feature Engineering"
   ]
  },
  {
   "cell_type": "code",
   "execution_count": 1,
   "id": "49e1becc",
   "metadata": {},
   "outputs": [
    {
     "name": "stderr",
     "output_type": "stream",
     "text": [
      "/var/folders/_4/t03mdfy94ts0ylt8cw0q1bp00000gn/T/ipykernel_10709/1153278581.py:4: FutureWarning: YF.download() has changed argument auto_adjust default to True\n",
      "  data = yf.download(ticker, start=\"2015-01-01\", end=\"2023-12-31\", progress=False)\n"
     ]
    }
   ],
   "source": [
    "import yfinance as yf\n",
    "\n",
    "ticker = \"SPY\"\n",
    "data = yf.download(ticker, start=\"2015-01-01\", end=\"2023-12-31\", progress=False)\n",
    "\n",
    "# Feature #1: 5-day moving average of Volume\n",
    "data['Volume_MA'] = data['Volume'].rolling(5).mean()\n",
    "\n",
    "# Feature #2: RSI - mean-reversion indicator\n",
    "def calculate_rsi(series, window=14):\n",
    "    delta = series.diff()\n",
    "    gain = delta.clip(lower=0)\n",
    "    loss = -delta.clip(upper=0)\n",
    "    avg_gain = gain.rolling(window).mean()\n",
    "    avg_loss = loss.rolling(window).mean()\n",
    "    rs = avg_gain / avg_loss\n",
    "    return 100 - (100 / (1 + rs))\n",
    "\n",
    "data['RSI'] = calculate_rsi(data['Close'])"
   ]
  },
  {
   "cell_type": "markdown",
   "metadata": {},
   "source": [
    "### Rationale for Feature 1"
   ]
  },
  {
   "cell_type": "markdown",
   "id": "da569cdb",
   "metadata": {},
   "source": [
    "The first feature 'Volume_MA' is a 5-day moving average of the trading volume. This feature helps to smooth out short-term fluctuations and highlight longer-term trends in trading activity, which can be useful for identifying periods of high or low market interest. The log-scale EDA visualization of the Volume distribution from showed volume patterns are more meaningful when smoothed."
   ]
  },
  {
   "cell_type": "markdown",
   "metadata": {},
   "source": [
    "### Rationale for Feature 2"
   ]
  },
  {
   "cell_type": "markdown",
   "id": "97217ceb",
   "metadata": {},
   "source": [
    "The second feature 'RSI' (Relative Strength Index) is a momentum indicator which is used to measure the magnitude of price changes, and it can also be used as a mean-reversion signal. The return distribution EDA visualization showed slight negative skew, which suggests mean-reversion opportunities. "
   ]
  }
 ],
 "metadata": {
  "kernelspec": {
   "display_name": "bootcamp_env",
   "language": "python",
   "name": "python3"
  },
  "language_info": {
   "codemirror_mode": {
    "name": "ipython",
    "version": 3
   },
   "file_extension": ".py",
   "mimetype": "text/x-python",
   "name": "python",
   "nbconvert_exporter": "python",
   "pygments_lexer": "ipython3",
   "version": "3.10.18"
  }
 },
 "nbformat": 4,
 "nbformat_minor": 5
}
