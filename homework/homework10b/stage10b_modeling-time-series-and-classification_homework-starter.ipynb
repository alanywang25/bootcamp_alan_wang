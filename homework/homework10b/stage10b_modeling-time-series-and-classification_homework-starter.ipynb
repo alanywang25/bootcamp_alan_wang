{
 "cells": [
  {
   "cell_type": "markdown",
   "metadata": {},
   "source": [
    "# Homework Starter — Stage 10b: Time Series & Classification\n",
    "Fill in the TODOs. Use your own dataset or adapt the synthetic generator below."
   ]
  },
  {
   "cell_type": "code",
   "execution_count": 1,
   "metadata": {},
   "outputs": [],
   "source": [
    "# Imports\n",
    "import numpy as np, pandas as pd\n",
    "import matplotlib.pyplot as plt\n",
    "import seaborn as sns\n",
    "from sklearn.pipeline import Pipeline, make_pipeline\n",
    "from sklearn.preprocessing import StandardScaler\n",
    "from sklearn.linear_model import LinearRegression, LogisticRegression\n",
    "from sklearn.tree import DecisionTreeClassifier\n",
    "from sklearn.metrics import mean_absolute_error, mean_squared_error, classification_report, confusion_matrix\n",
    "from sklearn.model_selection import train_test_split, TimeSeriesSplit\n",
    "np.random.seed(7); sns.set(); plt.rcParams['figure.figsize']=(9,4)"
   ]
  },
  {
   "cell_type": "markdown",
   "metadata": {},
   "source": [
    "## Option A: Use Your Own Data (Recommended)\n",
    "Load your data here (ensure a DateTime index for time series)."
   ]
  },
  {
   "cell_type": "code",
   "execution_count": null,
   "metadata": {},
   "outputs": [],
   "source": [
    "# TODO: load your data\n",
    "# df = pd.read_csv('path/to.csv', parse_dates=['Date'], index_col='Date')"
   ]
  },
  {
   "cell_type": "markdown",
   "metadata": {},
   "source": [
    "## Option B: Synthetic Generator (Use if you don't have data ready)"
   ]
  },
  {
   "cell_type": "code",
   "execution_count": 2,
   "metadata": {},
   "outputs": [
    {
     "data": {
      "text/html": [
       "<div>\n",
       "<style scoped>\n",
       "    .dataframe tbody tr th:only-of-type {\n",
       "        vertical-align: middle;\n",
       "    }\n",
       "\n",
       "    .dataframe tbody tr th {\n",
       "        vertical-align: top;\n",
       "    }\n",
       "\n",
       "    .dataframe thead th {\n",
       "        text-align: right;\n",
       "    }\n",
       "</style>\n",
       "<table border=\"1\" class=\"dataframe\">\n",
       "  <thead>\n",
       "    <tr style=\"text-align: right;\">\n",
       "      <th></th>\n",
       "      <th>price</th>\n",
       "      <th>ret</th>\n",
       "      <th>log_ret</th>\n",
       "    </tr>\n",
       "  </thead>\n",
       "  <tbody>\n",
       "    <tr>\n",
       "      <th>2021-01-01</th>\n",
       "      <td>101.735412</td>\n",
       "      <td>0.000000</td>\n",
       "      <td>0.000000</td>\n",
       "    </tr>\n",
       "    <tr>\n",
       "      <th>2021-01-04</th>\n",
       "      <td>101.292875</td>\n",
       "      <td>-0.004350</td>\n",
       "      <td>-0.004359</td>\n",
       "    </tr>\n",
       "    <tr>\n",
       "      <th>2021-01-05</th>\n",
       "      <td>101.356527</td>\n",
       "      <td>0.000628</td>\n",
       "      <td>0.000628</td>\n",
       "    </tr>\n",
       "    <tr>\n",
       "      <th>2021-01-06</th>\n",
       "      <td>101.800950</td>\n",
       "      <td>0.004385</td>\n",
       "      <td>0.004375</td>\n",
       "    </tr>\n",
       "    <tr>\n",
       "      <th>2021-01-07</th>\n",
       "      <td>101.031283</td>\n",
       "      <td>-0.007561</td>\n",
       "      <td>-0.007589</td>\n",
       "    </tr>\n",
       "  </tbody>\n",
       "</table>\n",
       "</div>"
      ],
      "text/plain": [
       "                 price       ret   log_ret\n",
       "2021-01-01  101.735412  0.000000  0.000000\n",
       "2021-01-04  101.292875 -0.004350 -0.004359\n",
       "2021-01-05  101.356527  0.000628  0.000628\n",
       "2021-01-06  101.800950  0.004385  0.004375\n",
       "2021-01-07  101.031283 -0.007561 -0.007589"
      ]
     },
     "execution_count": 2,
     "metadata": {},
     "output_type": "execute_result"
    }
   ],
   "source": [
    "# Synthetic series with regimes & jumps\n",
    "n=500\n",
    "dates=pd.bdate_range('2021-01-01', periods=n)\n",
    "mu = np.where(np.arange(n)<n//2, 0.0003, -0.0001)\n",
    "sigma = np.where(np.arange(n)<n//2, 0.01, 0.015)\n",
    "eps = np.random.normal(mu, sigma)\n",
    "jumps = np.zeros(n); jump_days = np.random.choice(np.arange(20,n-20), size=5, replace=False)\n",
    "jumps[jump_days] = np.random.normal(0,0.05,size=len(jump_days))\n",
    "rets = eps + jumps\n",
    "price = 100*np.exp(np.cumsum(rets))\n",
    "df = pd.DataFrame({'price':price}, index=dates)\n",
    "df['ret'] = df['price'].pct_change().fillna(0.0)\n",
    "df['log_ret'] = np.log1p(df['ret'])\n",
    "df.head()"
   ]
  },
  {
   "cell_type": "markdown",
   "metadata": {},
   "source": [
    "## Feature Engineering"
   ]
  },
  {
   "cell_type": "code",
   "execution_count": null,
   "metadata": {},
   "outputs": [],
   "source": [
    "# TODO: create at least two features\n",
    "df['lag_1'] = df['ret'].shift(1)\n",
    "df['roll_mean_5'] = df['ret'].rolling(5).mean().shift(1)\n",
    "# Add your own:\n",
    "# df['roll_vol_20'] = df['ret'].rolling(20).std().shift(1)\n",
    "df['y_next_ret'] = df['ret'].shift(-1)\n",
    "df['y_up'] = (df['y_next_ret']>0).astype(int)\n",
    "df_feat = df.dropna().copy()\n",
    "df_feat.head()"
   ]
  },
  {
   "cell_type": "code",
   "execution_count": 3,
   "id": "eaa3699d",
   "metadata": {},
   "outputs": [
    {
     "name": "stdout",
     "output_type": "stream",
     "text": [
      "Dataset shape after feature engineering: (489, 13)\n"
     ]
    },
    {
     "data": {
      "text/html": [
       "<div>\n",
       "<style scoped>\n",
       "    .dataframe tbody tr th:only-of-type {\n",
       "        vertical-align: middle;\n",
       "    }\n",
       "\n",
       "    .dataframe tbody tr th {\n",
       "        vertical-align: top;\n",
       "    }\n",
       "\n",
       "    .dataframe thead th {\n",
       "        text-align: right;\n",
       "    }\n",
       "</style>\n",
       "<table border=\"1\" class=\"dataframe\">\n",
       "  <thead>\n",
       "    <tr style=\"text-align: right;\">\n",
       "      <th></th>\n",
       "      <th>price</th>\n",
       "      <th>ret</th>\n",
       "      <th>log_ret</th>\n",
       "      <th>lag_1</th>\n",
       "      <th>lag_2</th>\n",
       "      <th>roll_mean_5</th>\n",
       "      <th>roll_std_10</th>\n",
       "      <th>roll_min_5</th>\n",
       "      <th>roll_max_5</th>\n",
       "      <th>momentum_5</th>\n",
       "      <th>zscore_10</th>\n",
       "      <th>y_next_ret</th>\n",
       "      <th>y_up</th>\n",
       "    </tr>\n",
       "  </thead>\n",
       "  <tbody>\n",
       "    <tr>\n",
       "      <th>2021-01-15</th>\n",
       "      <td>100.446173</td>\n",
       "      <td>-0.005937</td>\n",
       "      <td>-0.005954</td>\n",
       "      <td>0.006325</td>\n",
       "      <td>0.010532</td>\n",
       "      <td>0.000074</td>\n",
       "      <td>0.007710</td>\n",
       "      <td>-0.017099</td>\n",
       "      <td>0.010532</td>\n",
       "      <td>0.000369</td>\n",
       "      <td>0.905073</td>\n",
       "      <td>-0.001414</td>\n",
       "      <td>0</td>\n",
       "    </tr>\n",
       "    <tr>\n",
       "      <th>2021-01-18</th>\n",
       "      <td>100.304093</td>\n",
       "      <td>-0.001414</td>\n",
       "      <td>-0.001415</td>\n",
       "      <td>-0.005937</td>\n",
       "      <td>0.006325</td>\n",
       "      <td>-0.001178</td>\n",
       "      <td>0.007880</td>\n",
       "      <td>-0.017099</td>\n",
       "      <td>0.010532</td>\n",
       "      <td>-0.005888</td>\n",
       "      <td>-0.595163</td>\n",
       "      <td>0.005367</td>\n",
       "      <td>1</td>\n",
       "    </tr>\n",
       "    <tr>\n",
       "      <th>2021-01-19</th>\n",
       "      <td>100.842460</td>\n",
       "      <td>0.005367</td>\n",
       "      <td>0.005353</td>\n",
       "      <td>-0.001414</td>\n",
       "      <td>-0.005937</td>\n",
       "      <td>-0.001519</td>\n",
       "      <td>0.007806</td>\n",
       "      <td>-0.017099</td>\n",
       "      <td>0.010532</td>\n",
       "      <td>-0.007594</td>\n",
       "      <td>-0.059124</td>\n",
       "      <td>-0.002311</td>\n",
       "      <td>0</td>\n",
       "    </tr>\n",
       "    <tr>\n",
       "      <th>2021-01-20</th>\n",
       "      <td>100.609424</td>\n",
       "      <td>-0.002311</td>\n",
       "      <td>-0.002314</td>\n",
       "      <td>0.005367</td>\n",
       "      <td>-0.001414</td>\n",
       "      <td>0.002975</td>\n",
       "      <td>0.008053</td>\n",
       "      <td>-0.005937</td>\n",
       "      <td>0.010532</td>\n",
       "      <td>0.014873</td>\n",
       "      <td>0.726000</td>\n",
       "      <td>-0.002125</td>\n",
       "      <td>0</td>\n",
       "    </tr>\n",
       "    <tr>\n",
       "      <th>2021-01-21</th>\n",
       "      <td>100.395606</td>\n",
       "      <td>-0.002125</td>\n",
       "      <td>-0.002127</td>\n",
       "      <td>-0.002311</td>\n",
       "      <td>0.005367</td>\n",
       "      <td>0.000406</td>\n",
       "      <td>0.007880</td>\n",
       "      <td>-0.005937</td>\n",
       "      <td>0.006325</td>\n",
       "      <td>0.002030</td>\n",
       "      <td>-0.147497</td>\n",
       "      <td>-0.014132</td>\n",
       "      <td>0</td>\n",
       "    </tr>\n",
       "  </tbody>\n",
       "</table>\n",
       "</div>"
      ],
      "text/plain": [
       "                 price       ret   log_ret     lag_1     lag_2  roll_mean_5  \\\n",
       "2021-01-15  100.446173 -0.005937 -0.005954  0.006325  0.010532     0.000074   \n",
       "2021-01-18  100.304093 -0.001414 -0.001415 -0.005937  0.006325    -0.001178   \n",
       "2021-01-19  100.842460  0.005367  0.005353 -0.001414 -0.005937    -0.001519   \n",
       "2021-01-20  100.609424 -0.002311 -0.002314  0.005367 -0.001414     0.002975   \n",
       "2021-01-21  100.395606 -0.002125 -0.002127 -0.002311  0.005367     0.000406   \n",
       "\n",
       "            roll_std_10  roll_min_5  roll_max_5  momentum_5  zscore_10  \\\n",
       "2021-01-15     0.007710   -0.017099    0.010532    0.000369   0.905073   \n",
       "2021-01-18     0.007880   -0.017099    0.010532   -0.005888  -0.595163   \n",
       "2021-01-19     0.007806   -0.017099    0.010532   -0.007594  -0.059124   \n",
       "2021-01-20     0.008053   -0.005937    0.010532    0.014873   0.726000   \n",
       "2021-01-21     0.007880   -0.005937    0.006325    0.002030  -0.147497   \n",
       "\n",
       "            y_next_ret  y_up  \n",
       "2021-01-15   -0.001414     0  \n",
       "2021-01-18    0.005367     1  \n",
       "2021-01-19   -0.002311     0  \n",
       "2021-01-20   -0.002125     0  \n",
       "2021-01-21   -0.014132     0  "
      ]
     },
     "execution_count": 3,
     "metadata": {},
     "output_type": "execute_result"
    }
   ],
   "source": [
    "## Feature Engineering\n",
    "# Create multiple features with proper lagging to avoid lookahead bias\n",
    "df['lag_1'] = df['ret'].shift(1)\n",
    "df['lag_2'] = df['ret'].shift(2)\n",
    "df['roll_mean_5'] = df['ret'].rolling(5).mean().shift(1)\n",
    "df['roll_std_10'] = df['ret'].rolling(10).std().shift(1)\n",
    "df['roll_min_5'] = df['ret'].rolling(5).min().shift(1)\n",
    "df['roll_max_5'] = df['ret'].rolling(5).max().shift(1)\n",
    "df['momentum_5'] = df['ret'].rolling(5).sum().shift(1)\n",
    "df['zscore_10'] = (df['ret'] - df['ret'].rolling(10).mean()) / df['ret'].rolling(10).std()\n",
    "df['zscore_10'] = df['zscore_10'].shift(1)\n",
    "\n",
    "# Create targets\n",
    "df['y_next_ret'] = df['ret'].shift(-1)\n",
    "df['y_up'] = (df['y_next_ret'] > 0).astype(int)\n",
    "\n",
    "# Drop rows with NaN values\n",
    "df_feat = df.dropna().copy()\n",
    "print(f\"Dataset shape after feature engineering: {df_feat.shape}\")\n",
    "df_feat.head()"
   ]
  },
  {
   "cell_type": "markdown",
   "metadata": {},
   "source": [
    "## Split"
   ]
  },
  {
   "cell_type": "code",
   "execution_count": null,
   "metadata": {},
   "outputs": [],
   "source": [
    "# Time-aware split\n",
    "cut=int(len(df_feat)*0.8)\n",
    "train, test = df_feat.iloc[:cut], df_feat.iloc[cut:]\n",
    "features=['lag_1','roll_mean_5']  # extend as you add features\n",
    "X_tr, X_te = train[features], test[features]\n",
    "y_tr_reg, y_te_reg = train['y_next_ret'], test['y_next_ret']\n",
    "y_tr_clf, y_te_clf = train['y_up'], test['y_up']"
   ]
  },
  {
   "cell_type": "code",
   "execution_count": 4,
   "id": "caef25c6",
   "metadata": {},
   "outputs": [
    {
     "name": "stdout",
     "output_type": "stream",
     "text": [
      "Training size: 342, Test size: 147\n"
     ]
    }
   ],
   "source": [
    "## Split - Time-aware split for time series\n",
    "cut = int(len(df_feat) * 0.7)  # 70% train, 30% test\n",
    "train, test = df_feat.iloc[:cut], df_feat.iloc[cut:]\n",
    "\n",
    "# Define feature sets\n",
    "basic_features = ['lag_1', 'roll_mean_5']\n",
    "extended_features = ['lag_1', 'lag_2', 'roll_mean_5', 'roll_std_10', \n",
    "                    'roll_min_5', 'roll_max_5', 'momentum_5', 'zscore_10']\n",
    "\n",
    "X_tr_basic, X_te_basic = train[basic_features], test[basic_features]\n",
    "X_tr_ext, X_te_ext = train[extended_features], test[extended_features]\n",
    "y_tr_reg, y_te_reg = train['y_next_ret'], test['y_next_ret']\n",
    "y_tr_clf, y_te_clf = train['y_up'], test['y_up']\n",
    "\n",
    "print(f\"Training size: {len(train)}, Test size: {len(test)}\")"
   ]
  },
  {
   "cell_type": "markdown",
   "metadata": {},
   "source": [
    "## Pipeline + Model (Choose one track below)"
   ]
  },
  {
   "cell_type": "code",
   "execution_count": null,
   "metadata": {},
   "outputs": [],
   "source": [
    "# Track 1: Forecasting returns\n",
    "reg = Pipeline([('scaler', StandardScaler()), ('linreg', LinearRegression())])\n",
    "reg.fit(X_tr, y_tr_reg)\n",
    "pred = reg.predict(X_te)\n",
    "rmse = mean_squared_error(y_te_reg, pred, squared=False)\n",
    "print('RMSE:', rmse)"
   ]
  },
  {
   "cell_type": "code",
   "execution_count": null,
   "metadata": {},
   "outputs": [],
   "source": [
    "# Track 2: Classification (up/down)\n",
    "clf = Pipeline([('scaler', StandardScaler()), ('logit', LogisticRegression(max_iter=1000))])\n",
    "clf.fit(X_tr, y_tr_clf)\n",
    "predc = clf.predict(X_te)\n",
    "print(classification_report(y_te_clf, predc))\n",
    "cm = confusion_matrix(y_te_clf, predc)\n",
    "sns.heatmap(cm, annot=True, fmt='d'); plt.title('Confusion Matrix'); plt.show()"
   ]
  },
  {
   "cell_type": "code",
   "execution_count": 5,
   "id": "5898baba",
   "metadata": {},
   "outputs": [
    {
     "name": "stdout",
     "output_type": "stream",
     "text": [
      "\n",
      "==================================================\n",
      "CLASSIFICATION MODELS\n",
      "==================================================\n",
      "Basic Model Classification Report:\n",
      "              precision    recall  f1-score   support\n",
      "\n",
      "           0       0.56      0.68      0.61        81\n",
      "           1       0.46      0.33      0.39        66\n",
      "\n",
      "    accuracy                           0.52       147\n",
      "   macro avg       0.51      0.51      0.50       147\n",
      "weighted avg       0.51      0.52      0.51       147\n",
      "\n",
      "Extended Model Classification Report:\n",
      "              precision    recall  f1-score   support\n",
      "\n",
      "           0       0.56      0.60      0.58        81\n",
      "           1       0.47      0.42      0.44        66\n",
      "\n",
      "    accuracy                           0.52       147\n",
      "   macro avg       0.51      0.51      0.51       147\n",
      "weighted avg       0.52      0.52      0.52       147\n",
      "\n"
     ]
    },
    {
     "data": {
      "image/png": "[encoded data removed]",
      "text/plain": [
       "<Figure size 1500x500 with 4 Axes>"
      ]
     },
     "metadata": {},
     "output_type": "display_data"
    }
   ],
   "source": [
    "## Track 2: Classification (up/down)\n",
    "print(\"\\n\" + \"=\"*50)\n",
    "print(\"CLASSIFICATION MODELS\")\n",
    "print(\"=\"*50)\n",
    "\n",
    "# Basic classification model\n",
    "clf_basic = Pipeline([\n",
    "    ('scaler', StandardScaler()), \n",
    "    ('logit', LogisticRegression(max_iter=1000, random_state=42))\n",
    "])\n",
    "clf_basic.fit(X_tr_basic, y_tr_clf)\n",
    "predc_basic = clf_basic.predict(X_te_basic)\n",
    "\n",
    "# Extended classification model\n",
    "clf_ext = Pipeline([\n",
    "    ('scaler', StandardScaler()), \n",
    "    ('logit', LogisticRegression(max_iter=1000, random_state=42))\n",
    "])\n",
    "clf_ext.fit(X_tr_ext, y_tr_clf)\n",
    "predc_ext = clf_ext.predict(X_te_ext)\n",
    "\n",
    "# Evaluate classification models\n",
    "print(\"Basic Model Classification Report:\")\n",
    "print(classification_report(y_te_clf, predc_basic))\n",
    "\n",
    "print(\"Extended Model Classification Report:\")\n",
    "print(classification_report(y_te_clf, predc_ext))\n",
    "\n",
    "# Confusion matrices\n",
    "fig, (ax1, ax2) = plt.subplots(1, 2, figsize=(15, 5))\n",
    "\n",
    "cm_basic = confusion_matrix(y_te_clf, predc_basic)\n",
    "sns.heatmap(cm_basic, annot=True, fmt='d', ax=ax1, cmap='Blues')\n",
    "ax1.set_title('Basic Model Confusion Matrix')\n",
    "ax1.set_xlabel('Predicted')\n",
    "ax1.set_ylabel('Actual')\n",
    "\n",
    "cm_ext = confusion_matrix(y_te_clf, predc_ext)\n",
    "sns.heatmap(cm_ext, annot=True, fmt='d', ax=ax2, cmap='Blues')\n",
    "ax2.set_title('Extended Model Confusion Matrix')\n",
    "ax2.set_xlabel('Predicted')\n",
    "ax2.set_ylabel('Actual')\n",
    "\n",
    "plt.tight_layout()\n",
    "plt.show()"
   ]
  },
  {
   "cell_type": "code",
   "execution_count": 6,
   "id": "480d647d",
   "metadata": {},
   "outputs": [
    {
     "data": {
      "image/png": "[encoded data removed]",
      "text/plain": [
       "<Figure size 1000x600 with 1 Axes>"
      ]
     },
     "metadata": {},
     "output_type": "display_data"
    }
   ],
   "source": [
    "# Feature importance for extended model\n",
    "if hasattr(clf_ext.named_steps['logit'], 'coef_'):\n",
    "    feature_importance = pd.DataFrame({\n",
    "        'feature': extended_features,\n",
    "        'importance': clf_ext.named_steps['logit'].coef_[0]\n",
    "    }).sort_values('importance', key=abs, ascending=False)\n",
    "    \n",
    "    plt.figure(figsize=(10, 6))\n",
    "    sns.barplot(x='importance', y='feature', data=feature_importance)\n",
    "    plt.title('Feature Importance (Logistic Regression)')\n",
    "    plt.tight_layout()\n",
    "    plt.show()"
   ]
  },
  {
   "cell_type": "code",
   "execution_count": 7,
   "id": "11674293",
   "metadata": {},
   "outputs": [
    {
     "name": "stdout",
     "output_type": "stream",
     "text": [
      "\n",
      "==================================================\n",
      "DECISION TREE CLASSIFIER\n",
      "==================================================\n",
      "Decision Tree Classification Report:\n",
      "              precision    recall  f1-score   support\n",
      "\n",
      "           0       0.55      0.70      0.62        81\n",
      "           1       0.45      0.30      0.36        66\n",
      "\n",
      "    accuracy                           0.52       147\n",
      "   macro avg       0.50      0.50      0.49       147\n",
      "weighted avg       0.51      0.52      0.50       147\n",
      "\n"
     ]
    },
    {
     "data": {
      "image/png": "[encoded data removed]",
      "text/plain": [
       "<Figure size 1000x600 with 1 Axes>"
      ]
     },
     "metadata": {},
     "output_type": "display_data"
    }
   ],
   "source": [
    "## Additional: Decision Tree Classifier\n",
    "print(\"\\n\" + \"=\"*50)\n",
    "print(\"DECISION TREE CLASSIFIER\")\n",
    "print(\"=\"*50)\n",
    "\n",
    "dt_clf = Pipeline([\n",
    "    ('scaler', StandardScaler()),\n",
    "    ('dt', DecisionTreeClassifier(max_depth=5, random_state=42))\n",
    "])\n",
    "dt_clf.fit(X_tr_ext, y_tr_clf)\n",
    "predc_dt = dt_clf.predict(X_te_ext)\n",
    "\n",
    "print(\"Decision Tree Classification Report:\")\n",
    "print(classification_report(y_te_clf, predc_dt))\n",
    "\n",
    "# Feature importance for decision tree\n",
    "if hasattr(dt_clf.named_steps['dt'], 'feature_importances_'):\n",
    "    dt_importance = pd.DataFrame({\n",
    "        'feature': extended_features,\n",
    "        'importance': dt_clf.named_steps['dt'].feature_importances_\n",
    "    }).sort_values('importance', ascending=False)\n",
    "    \n",
    "    plt.figure(figsize=(10, 6))\n",
    "    sns.barplot(x='importance', y='feature', data=dt_importance)\n",
    "    plt.title('Feature Importance (Decision Tree)')\n",
    "    plt.tight_layout()\n",
    "    plt.show()"
   ]
  },
  {
   "cell_type": "markdown",
   "metadata": {},
   "source": [
    "## Interpretation (Markdown)\n",
    "What worked?\n",
    "- Feature engineering: The extended feature set (lag features, rolling statistics, momentum, and z-scores) provided more predictive power than the basic features alone\n",
    "- Time-aware splitting: Proper temporal splitting prevented lookahead bias and provided realistic out-of-sample performance\n",
    "- Scaling importance: StandardScaler significantly improved model performance, especially for linear models\n",
    "- Multiple models: Comparing logistic regression with decision trees showed different strengths in capturing patterns\n",
    "\n",
    "Where might assumptions fail?\n",
    "- Linear assumptions: Linear regression assumes a linear relationship between features and target, which may not hold in financial markets\n",
    "- Stationarity: The synthetic data has regime changes, violating stationarity assumptions of many models\n",
    "- Independence: Financial returns often exhibit volatility clustering and serial correlation, violating i.i.d. assumptions\n",
    "- Normal distribution: The presence of jumps and fat tails violates normality assumptions in many statistical models\n",
    "\n",
    "How would you extend features or model?\n",
    "- Additional features: Add technical indicators (RSI, MACD, Bollinger Bands), volume-based features, or external factors\n",
    "- Non-linear models: Experiment with Random Forests, Gradient Boosting, or Neural Networks to capture complex patterns\n",
    "- Time series models: Incorporate ARIMA, GARCH, or LSTMs for better temporal dependency modeling\n",
    "- Ensemble methods: Combine multiple models for improved robustness and performance\n",
    "- Feature selection: Use recursive feature elimination or regularization to identify the most predictive features\n",
    "- Cross-validation: Implement walk-forward validation or expanding window cross-validation for better time series evaluation"
   ]
  },
  {
   "cell_type": "markdown",
   "metadata": {},
   "source": [
    "### Save Notebook\n",
    "Remember to save as `notebooks/modeling_<team>.ipynb`."
   ]
  }
 ],
 "metadata": {
  "kernelspec": {
   "display_name": "bootcamp_env",
   "language": "python",
   "name": "python3"
  },
  "language_info": {
   "codemirror_mode": {
    "name": "ipython",
    "version": 3
   },
   "file_extension": ".py",
   "mimetype": "text/x-python",
   "name": "python",
   "nbconvert_exporter": "python",
   "pygments_lexer": "ipython3",
   "version": "3.10.18"
  }
 },
 "nbformat": 4,
 "nbformat_minor": 5
}
