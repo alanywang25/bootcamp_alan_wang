{
 "cells": [
  {
   "cell_type": "markdown",
   "id": "5f9e6a39",
   "metadata": {},
   "source": [
    "# Final Project\n",
    "\n",
    "Alan Wang"
   ]
  },
  {
   "cell_type": "code",
   "execution_count": 2,
   "id": "c1b75b84",
   "metadata": {},
   "outputs": [],
   "source": [
    "#pip install yfinance pandas numpy ta scikit-learn matplotlib"
   ]
  },
  {
   "cell_type": "code",
   "execution_count": 3,
   "id": "5885803f",
   "metadata": {},
   "outputs": [
    {
     "name": "stdout",
     "output_type": "stream",
     "text": [
      "Success! Data shape: (2214, 5)\n"
     ]
    },
    {
     "name": "stderr",
     "output_type": "stream",
     "text": [
      "/var/folders/_4/t03mdfy94ts0ylt8cw0q1bp00000gn/T/ipykernel_17202/1007621197.py:11: FutureWarning: YF.download() has changed argument auto_adjust default to True\n",
      "  data = yf.download(ticker, start=\"2015-01-01\", end=\"2023-12-31\", progress=False)\n"
     ]
    }
   ],
   "source": [
    "import random\n",
    "random.seed(5040)\n",
    "\n",
    "import yfinance as yf\n",
    "import pandas as pd\n",
    "import numpy as np\n",
    "from sklearn.preprocessing import StandardScaler\n",
    "\n",
    "# Download data (suppress warnings and force 1D output)\n",
    "ticker = \"SPY\"\n",
    "data = yf.download(ticker, start=\"2015-01-01\", end=\"2023-12-31\", progress=False)\n",
    "\n",
    "# SAFE data preparation\n",
    "def prepare_data(df):\n",
    "    \"\"\"Convert columns to guaranteed 1D arrays\"\"\"\n",
    "    close = df['Close'].values.ravel()  # Force 1D\n",
    "    volume = df['Volume'].values.ravel()\n",
    "    return pd.DataFrame({\n",
    "        'Close': close,\n",
    "        'Volume': volume\n",
    "    }, index=df.index)\n",
    "\n",
    "clean_data = prepare_data(data)\n",
    "\n",
    "# Custom indicator functions\n",
    "def calculate_rsi(series, window=14):\n",
    "    delta = series.diff()\n",
    "    gain = delta.clip(lower=0)\n",
    "    loss = -delta.clip(upper=0)\n",
    "    avg_gain = gain.rolling(window).mean()\n",
    "    avg_loss = loss.rolling(window).mean()\n",
    "    rs = avg_gain / avg_loss\n",
    "    return 100 - (100 / (1 + rs))\n",
    "\n",
    "def calculate_macd(series, fast=12, slow=26, signal=9):\n",
    "    ema_fast = series.ewm(span=fast).mean()\n",
    "    ema_slow = series.ewm(span=slow).mean()\n",
    "    macd_line = ema_fast - ema_slow\n",
    "    signal_line = macd_line.ewm(span=signal).mean()\n",
    "    return macd_line - signal_line\n",
    "\n",
    "# Calculate returns and indicators MANUALLY\n",
    "clean_data['Return'] = clean_data['Close'].pct_change().shift(-1)\n",
    "clean_data['SMA_10'] = clean_data['Close'].rolling(10).mean()\n",
    "clean_data['SMA_50'] = clean_data['Close'].rolling(50).mean()\n",
    "clean_data['RSI'] = calculate_rsi(clean_data['Close']) \n",
    "clean_data['MACD'] = calculate_macd(clean_data['Close'])  \n",
    "clean_data['Volume_MA'] = clean_data['Volume'].rolling(5).mean()\n",
    "\n",
    "# Final cleanup\n",
    "clean_data.dropna(inplace=True)\n",
    "\n",
    "# Prepare features/target\n",
    "features = ['SMA_10', 'SMA_50', 'RSI', 'MACD', 'Volume_MA']\n",
    "X = clean_data[features]\n",
    "y = np.where(clean_data['Return'] > 0, 1, 0)\n",
    "\n",
    "# Standardize and split\n",
    "scaler = StandardScaler()\n",
    "X_scaled = scaler.fit_transform(X)\n",
    "split_idx = int(0.8 * len(X))\n",
    "X_train, X_test = X_scaled[:split_idx], X_scaled[split_idx:]\n",
    "y_train, y_test = y[:split_idx], y[split_idx:]\n",
    "\n",
    "print(\"Success! Data shape:\", X_scaled.shape)"
   ]
  },
  {
   "cell_type": "code",
   "execution_count": null,
   "id": "de13e047",
   "metadata": {},
   "outputs": [],
   "source": [
    "from sklearn.ensemble import RandomForestClassifier\n",
    "from sklearn.linear_model import LogisticRegression\n",
    "from sklearn.metrics import classification_report, accuracy_score, confusion_matrix\n",
    "import matplotlib.pyplot as plt\n",
    "import seaborn as sns\n",
    "\n",
    "# Initialize models\n",
    "models = {\n",
    "    \"Logistic Regression\": LogisticRegression(),\n",
    "    \"Random Forest\": RandomForestClassifier(n_estimators=100, random_state=42)\n",
    "}\n",
    "\n",
    "# Train and evaluate\n",
    "for name, model in models.items():\n",
    "    model.fit(X_train, y_train)\n",
    "    y_pred = model.predict(X_test)\n",
    "    \n",
    "    print(f\"\\n{name} Performance:\")\n",
    "    print(classification_report(y_test, y_pred))\n",
    "    \n",
    "    # Plot confusion matrix\n",
    "    cm = confusion_matrix(y_test, y_pred)\n",
    "    sns.heatmap(cm, annot=True, fmt='d', cmap='Blues')\n",
    "    plt.title(f\"{name} Confusion Matrix\")\n",
    "    plt.show()\n",
    "\n",
    "# Feature Importance (Random Forest)\n",
    "if \"Random Forest\" in models:\n",
    "    importances = models[\"Random Forest\"].feature_importances_\n",
    "    feature_importance = pd.DataFrame({'Feature': features, 'Importance': importances})\n",
    "    feature_importance = feature_importance.sort_values('Importance', ascending=False)\n",
    "    \n",
    "    plt.figure(figsize=(10, 6))\n",
    "    sns.barplot(x='Importance', y='Feature', data=feature_importance)\n",
    "    plt.title(\"Random Forest Feature Importance\")\n",
    "    plt.show()"
   ]
  }
 ],
 "metadata": {
  "kernelspec": {
   "display_name": "bootcamp_env",
   "language": "python",
   "name": "python3"
  },
  "language_info": {
   "codemirror_mode": {
    "name": "ipython",
    "version": 3
   },
   "file_extension": ".py",
   "mimetype": "text/x-python",
   "name": "python",
   "nbconvert_exporter": "python",
   "pygments_lexer": "ipython3",
   "version": "3.10.18"
  }
 },
 "nbformat": 4,
 "nbformat_minor": 5
}
